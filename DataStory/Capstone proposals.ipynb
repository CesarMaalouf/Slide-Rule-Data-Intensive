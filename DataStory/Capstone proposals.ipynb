{
 "cells": [
  {
   "cell_type": "markdown",
   "metadata": {},
   "source": [
    "### Checking Google Maps bicycling timing\n",
    "\n",
    "Google maps bicycling directions are \"in beta\", i.e. they aren't very good, at least compared to driving directions. \n",
    "\n",
    "I hope to improve one aspect of these directions - timing -  by comparing ride timing from bike share data to the Google timing for the same endpoints.\n",
    "\n",
    "Here are the bike share data sources I have found:\n",
    "- Chicago's Divvy bikes: https://www.divvybikes.com/datachallenge\n",
    "- NYC's Citi Bike: http://www.citibikenyc.com/system-data\n",
    "  - Station info: http://www.citibikenyc.com/stations/json\n",
    "- DC's Capital bikeshare: https://www.capitalbikeshare.com/trip-history-data\n",
    "  - Station info: https://www.capitalbikeshare.com/data/stations/bikeStations.xml\n",
    "- Boston's Hubway: http://hubwaydatachallenge.org/trip-history-data/\n",
    "\n",
    "Data from google maps is probably best accessed through the distance matrix api:https://developers.google.com/maps/documentation/distance-matrix/\n",
    "The big limitation of this is that I can only access data for 2500 trips per day without paying. With this limitation, it will take me a month or so just to get data for each system.\n",
    "\n",
    "\n",
    "### Improving Movie Wiki's algorithm\n",
    " A friend of mine made an iPhone app that shows the connections via movies between actors, directors, and films\n",
    "One enters an actor, for example, and a list of the movies that actor has been in and the directors they have worked with, while entering a director will give the movies the director has directed and the actors they have worked with.\n",
    "The major issue is this: IMDB does not allow commercial use of their data, and this app is on the apple iTunes store.\n",
    "Instead, the data is based on looking at the Wikipedia pages of the actors, movies, and directors, and finding all the links to actors or directors on the page.\n",
    "This means that there are a large number of incorrect data points, most significantly false positives for connections.\n",
    "\n",
    "Using the text of the Wikipedia page and possibly IMDB data (http://www.imdb.com/interfaces) for some supervision of learning, I hope to come up with an algorithm that gives a probability of a false positive for a connection.  \n",
    "In order to commercialize this product, I must be able to build an algorithm that doesn't directly use IMDB data, i.e. I can't deliver a predictor that directly trained on IMDB data.\n",
    "Instead, I hope to use IMDB data to learn what is necessary to write a basic algorithm that will be commercially acceptable.\n",
    "\n",
    "The bad news about data access is that the API's for accessing Wikipedia data have limitations on access, so it will take about two weeks to get the text information.\n",
    "\n",
    "### Predicting Taxi drop offs based on demographic data.\n",
    "\n",
    "Using demographic data, such as:\n",
    "- Census/American Community Survey (ACS) data:\n",
    "    - Income, commute data, and much, much more.\n",
    "    - Data from the census makes the best possible attempt to record every single resident of the US, but is mostly just counting population, with only a small amount of other info.\n",
    "    - Data from ACS uses a random sample and gets diverse demographic information; though some of this information may have very high errors.\n",
    "    - Lots of sources, I've used https://nhgis.org/, as it allows you to just download the columns you want and not waste hard drive space or time processing lots of data.\n",
    "    - The census supplies \"shapefiles\" of the different geographical areas they use at https://www.census.gov/geo/maps-data/data/tiger-line.html. I divided mine up by census tract, so I got census tract shapefiles.\n",
    "-  Google maps distance and time data. \n",
    "\n",
    "I hope to be able to predict the number of taxi trip drop offs in a given area. Taxi trip data is available from NYC government websites: (http://www.nyc.gov/html/tlc/html/about/trip_record_data.shtml or (*just includes new data*) https://data.cityofnewyork.us/data?agency=Taxi+and+Limousine+Commission+%28TLC%29&cat=&type=new_view&browseSearch=&scope= )"
   ]
  },
  {
   "cell_type": "code",
   "execution_count": null,
   "metadata": {
    "collapsed": true
   },
   "outputs": [],
   "source": []
  }
 ],
 "metadata": {
  "kernelspec": {
   "display_name": "Python 2",
   "language": "python",
   "name": "python2"
  },
  "language_info": {
   "codemirror_mode": {
    "name": "ipython",
    "version": 2
   },
   "file_extension": ".py",
   "mimetype": "text/x-python",
   "name": "python",
   "nbconvert_exporter": "python",
   "pygments_lexer": "ipython2",
   "version": "2.7.6"
  }
 },
 "nbformat": 4,
 "nbformat_minor": 0
}
